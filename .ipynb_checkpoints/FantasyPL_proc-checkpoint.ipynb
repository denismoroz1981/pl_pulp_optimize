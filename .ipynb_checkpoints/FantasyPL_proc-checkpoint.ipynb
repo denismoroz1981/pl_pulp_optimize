{
 "cells": [
  {
   "cell_type": "markdown",
   "metadata": {
    "collapsed": true
   },
   "source": [
    "# Selecting the best team of Fantasy Premier League Players\n"
   ]
  },
  {
   "cell_type": "markdown",
   "metadata": {},
   "source": [
    "The task is select 15 players from approx 550 English Premier League players for a fantasy team. Every fantasy player has cost and points.\n",
    "The target is to maximise total points of the fantasy team.\n",
    "The constraints are:\n",
    "- total budget (say, 1000);\n",
    "- number of team members - 15;\n",
    "- no more than 3 players from one team;\n",
    "- limits by position - two forwards, four midfielders, four defenders, two goalkeepers.\n",
    "\n",
    "We will use PULP library with embedded solver CBC_CMD. "
   ]
  },
  {
   "cell_type": "code",
   "execution_count": 279,
   "metadata": {
    "collapsed": true
   },
   "outputs": [],
   "source": [
    "#importing labraries\n",
    "import urllib.request, json,pprint\n",
    "import pandas as pd\n",
    "from pulp import *\n",
    "import time"
   ]
  },
  {
   "cell_type": "code",
   "execution_count": 132,
   "metadata": {},
   "outputs": [
    {
     "name": "stdout",
     "output_type": "stream",
     "text": [
      "\t Testing zero subtraction\n",
      "\t Testing inconsistant lp solution\n",
      "\t Testing continuous LP solution\n",
      "\t Testing maximize continuous LP solution\n",
      "\t Testing unbounded continuous LP solution\n",
      "\t Testing Long Names\n",
      "\t Testing repeated Names\n",
      "\t Testing zero constraint\n",
      "\t Testing zero objective\n",
      "\t Testing LpVariable (not LpAffineExpression) objective\n",
      "\t Testing Long lines in LP\n",
      "\t Testing LpAffineExpression divide\n",
      "\t Testing MIP solution\n",
      "\t Testing MIP solution with floats in objective\n",
      "\t Testing MIP relaxation\n",
      "\t Testing feasibility problem (no objective)\n",
      "\t Testing an infeasible problem\n",
      "\t Testing an integer infeasible problem\n",
      "\t Testing column based modelling\n",
      "\t Testing dual variables and slacks reporting\n",
      "\t Testing fractional constraints\n",
      "\t Testing elastic constraints (no change)\n",
      "\t Testing elastic constraints (freebound)\n",
      "\t Testing elastic constraints (penalty unchanged)\n",
      "\t Testing elastic constraints (penalty unbounded)\n",
      "* Solver <class 'pulp.solvers.PULP_CBC_CMD'> passed.\n",
      "Solver <class 'pulp.solvers.CPLEX_DLL'> unavailable\n",
      "Solver <class 'pulp.solvers.CPLEX_CMD'> unavailable\n",
      "Solver <class 'pulp.solvers.CPLEX_PY'> unavailable\n",
      "Solver <class 'pulp.solvers.COIN_CMD'> unavailable\n",
      "Solver <class 'pulp.solvers.COINMP_DLL'> unavailable\n",
      "Solver <class 'pulp.solvers.GLPK_CMD'> unavailable\n",
      "Solver <class 'pulp.solvers.XPRESS'> unavailable\n",
      "No Gurobi license found (user denismoroz, host denis-VPCEL2S1R, hostid 3ca577cd, cores 2)\n",
      "* Solver <class 'pulp.solvers.GUROBI'> failed.\n",
      "\t Testing zero subtraction\n",
      "\t Testing inconsistant lp solution\n",
      "PuLP: Error while trying to execute gurobi_cl\n",
      "* Solver <class 'pulp.solvers.GUROBI_CMD'> failed.\n",
      "Solver <class 'pulp.solvers.PYGLPK'> unavailable\n",
      "Solver <class 'pulp.solvers.YAPOSIB'> unavailable\n"
     ]
    },
    {
     "ename": "PulpError",
     "evalue": "Tests Failed",
     "output_type": "error",
     "traceback": [
      "\u001b[0;31m---------------------------------------------------------------------------\u001b[0m",
      "\u001b[0;31mPulpError\u001b[0m                                 Traceback (most recent call last)",
      "\u001b[0;32m<ipython-input-132-94f8f423594d>\u001b[0m in \u001b[0;36m<module>\u001b[0;34m()\u001b[0m\n\u001b[0;32m----> 1\u001b[0;31m \u001b[0mpulp\u001b[0m\u001b[0;34m.\u001b[0m\u001b[0mpulpTestAll\u001b[0m\u001b[0;34m(\u001b[0m\u001b[0;34m)\u001b[0m\u001b[0;34m\u001b[0m\u001b[0m\n\u001b[0m",
      "\u001b[0;32m/home/denismoroz/anaconda3/lib/python3.6/site-packages/pulp/pulp.py\u001b[0m in \u001b[0;36mpulpTestAll\u001b[0;34m()\u001b[0m\n\u001b[1;32m   2302\u001b[0m             \u001b[0mprint\u001b[0m\u001b[0;34m(\u001b[0m\u001b[0;34m\"Solver %s unavailable\"\u001b[0m \u001b[0;34m%\u001b[0m \u001b[0ms\u001b[0m\u001b[0;34m)\u001b[0m\u001b[0;34m\u001b[0m\u001b[0m\n\u001b[1;32m   2303\u001b[0m     \u001b[0;32mif\u001b[0m \u001b[0mfailed\u001b[0m\u001b[0;34m:\u001b[0m\u001b[0;34m\u001b[0m\u001b[0m\n\u001b[0;32m-> 2304\u001b[0;31m         \u001b[0;32mraise\u001b[0m \u001b[0mPulpError\u001b[0m\u001b[0;34m(\u001b[0m\u001b[0;34m\"Tests Failed\"\u001b[0m\u001b[0;34m)\u001b[0m\u001b[0;34m\u001b[0m\u001b[0m\n\u001b[0m\u001b[1;32m   2305\u001b[0m \u001b[0;34m\u001b[0m\u001b[0m\n\u001b[1;32m   2306\u001b[0m \u001b[0;32mdef\u001b[0m \u001b[0mpulpDoctest\u001b[0m\u001b[0;34m(\u001b[0m\u001b[0;34m)\u001b[0m\u001b[0;34m:\u001b[0m\u001b[0;34m\u001b[0m\u001b[0m\n",
      "\u001b[0;31mPulpError\u001b[0m: Tests Failed"
     ]
    }
   ],
   "source": [
    "#searching for solvers with pulp\n",
    "pulp.pulpTestAll()"
   ]
  },
  {
   "cell_type": "code",
   "execution_count": 245,
   "metadata": {
    "collapsed": true
   },
   "outputs": [],
   "source": [
    "#getting data from Fantasy Premier League site API\n",
    "url=\"https://fantasy.premierleague.com/drf/bootstrap-static\"\n",
    "response = urllib.request.urlopen(url)\n",
    "data = json.loads(response.read())"
   ]
  },
  {
   "cell_type": "code",
   "execution_count": 246,
   "metadata": {},
   "outputs": [
    {
     "data": {
      "text/html": [
       "<div>\n",
       "<style>\n",
       "    .dataframe thead tr:only-child th {\n",
       "        text-align: right;\n",
       "    }\n",
       "\n",
       "    .dataframe thead th {\n",
       "        text-align: left;\n",
       "    }\n",
       "\n",
       "    .dataframe tbody tr th {\n",
       "        vertical-align: top;\n",
       "    }\n",
       "</style>\n",
       "<table border=\"1\" class=\"dataframe\">\n",
       "  <thead>\n",
       "    <tr style=\"text-align: right;\">\n",
       "      <th></th>\n",
       "      <th>code</th>\n",
       "      <th>current_event_fixture</th>\n",
       "      <th>draw</th>\n",
       "      <th>form</th>\n",
       "      <th>id</th>\n",
       "      <th>link_url</th>\n",
       "      <th>loss</th>\n",
       "      <th>name</th>\n",
       "      <th>next_event_fixture</th>\n",
       "      <th>played</th>\n",
       "      <th>...</th>\n",
       "      <th>strength</th>\n",
       "      <th>strength_attack_away</th>\n",
       "      <th>strength_attack_home</th>\n",
       "      <th>strength_defence_away</th>\n",
       "      <th>strength_defence_home</th>\n",
       "      <th>strength_overall_away</th>\n",
       "      <th>strength_overall_home</th>\n",
       "      <th>team_division</th>\n",
       "      <th>unavailable</th>\n",
       "      <th>win</th>\n",
       "    </tr>\n",
       "  </thead>\n",
       "  <tbody>\n",
       "    <tr>\n",
       "      <th>0</th>\n",
       "      <td>3</td>\n",
       "      <td>[{'is_home': False, 'day': 5, 'event_day': 2, ...</td>\n",
       "      <td>0</td>\n",
       "      <td>None</td>\n",
       "      <td>1</td>\n",
       "      <td></td>\n",
       "      <td>0</td>\n",
       "      <td>Arsenal</td>\n",
       "      <td>[{'is_home': True, 'day': 8, 'event_day': 1, '...</td>\n",
       "      <td>0</td>\n",
       "      <td>...</td>\n",
       "      <td>4</td>\n",
       "      <td>1260</td>\n",
       "      <td>1240</td>\n",
       "      <td>1320</td>\n",
       "      <td>1270</td>\n",
       "      <td>1320</td>\n",
       "      <td>1290</td>\n",
       "      <td>1</td>\n",
       "      <td>False</td>\n",
       "      <td>0</td>\n",
       "    </tr>\n",
       "    <tr>\n",
       "      <th>1</th>\n",
       "      <td>91</td>\n",
       "      <td>[{'is_home': True, 'day': 4, 'event_day': 1, '...</td>\n",
       "      <td>0</td>\n",
       "      <td>None</td>\n",
       "      <td>2</td>\n",
       "      <td></td>\n",
       "      <td>0</td>\n",
       "      <td>Bournemouth</td>\n",
       "      <td>[{'is_home': True, 'day': 8, 'event_day': 1, '...</td>\n",
       "      <td>0</td>\n",
       "      <td>...</td>\n",
       "      <td>3</td>\n",
       "      <td>1120</td>\n",
       "      <td>1090</td>\n",
       "      <td>1200</td>\n",
       "      <td>1150</td>\n",
       "      <td>1180</td>\n",
       "      <td>1150</td>\n",
       "      <td>1</td>\n",
       "      <td>False</td>\n",
       "      <td>0</td>\n",
       "    </tr>\n",
       "    <tr>\n",
       "      <th>2</th>\n",
       "      <td>36</td>\n",
       "      <td>[{'is_home': True, 'day': 4, 'event_day': 1, '...</td>\n",
       "      <td>0</td>\n",
       "      <td>None</td>\n",
       "      <td>3</td>\n",
       "      <td></td>\n",
       "      <td>0</td>\n",
       "      <td>Brighton</td>\n",
       "      <td>[{'is_home': False, 'day': 8, 'event_day': 1, ...</td>\n",
       "      <td>0</td>\n",
       "      <td>...</td>\n",
       "      <td>3</td>\n",
       "      <td>1080</td>\n",
       "      <td>1040</td>\n",
       "      <td>1120</td>\n",
       "      <td>1030</td>\n",
       "      <td>1110</td>\n",
       "      <td>1040</td>\n",
       "      <td>1</td>\n",
       "      <td>False</td>\n",
       "      <td>0</td>\n",
       "    </tr>\n",
       "    <tr>\n",
       "      <th>3</th>\n",
       "      <td>90</td>\n",
       "      <td>[{'is_home': True, 'day': 5, 'event_day': 2, '...</td>\n",
       "      <td>0</td>\n",
       "      <td>None</td>\n",
       "      <td>4</td>\n",
       "      <td></td>\n",
       "      <td>0</td>\n",
       "      <td>Burnley</td>\n",
       "      <td>[{'is_home': True, 'day': 8, 'event_day': 1, '...</td>\n",
       "      <td>0</td>\n",
       "      <td>...</td>\n",
       "      <td>2</td>\n",
       "      <td>1150</td>\n",
       "      <td>1040</td>\n",
       "      <td>1070</td>\n",
       "      <td>1040</td>\n",
       "      <td>1070</td>\n",
       "      <td>1050</td>\n",
       "      <td>1</td>\n",
       "      <td>False</td>\n",
       "      <td>0</td>\n",
       "    </tr>\n",
       "    <tr>\n",
       "      <th>4</th>\n",
       "      <td>97</td>\n",
       "      <td>[{'is_home': False, 'day': 4, 'event_day': 1, ...</td>\n",
       "      <td>0</td>\n",
       "      <td>None</td>\n",
       "      <td>5</td>\n",
       "      <td></td>\n",
       "      <td>0</td>\n",
       "      <td>Cardiff</td>\n",
       "      <td>[{'is_home': True, 'day': 8, 'event_day': 1, '...</td>\n",
       "      <td>0</td>\n",
       "      <td>...</td>\n",
       "      <td>2</td>\n",
       "      <td>1060</td>\n",
       "      <td>1020</td>\n",
       "      <td>1030</td>\n",
       "      <td>1010</td>\n",
       "      <td>1050</td>\n",
       "      <td>1020</td>\n",
       "      <td>1</td>\n",
       "      <td>False</td>\n",
       "      <td>0</td>\n",
       "    </tr>\n",
       "  </tbody>\n",
       "</table>\n",
       "<p>5 rows × 23 columns</p>\n",
       "</div>"
      ],
      "text/plain": [
       "   code                              current_event_fixture  draw  form  id  \\\n",
       "0     3  [{'is_home': False, 'day': 5, 'event_day': 2, ...     0  None   1   \n",
       "1    91  [{'is_home': True, 'day': 4, 'event_day': 1, '...     0  None   2   \n",
       "2    36  [{'is_home': True, 'day': 4, 'event_day': 1, '...     0  None   3   \n",
       "3    90  [{'is_home': True, 'day': 5, 'event_day': 2, '...     0  None   4   \n",
       "4    97  [{'is_home': False, 'day': 4, 'event_day': 1, ...     0  None   5   \n",
       "\n",
       "  link_url  loss         name  \\\n",
       "0              0      Arsenal   \n",
       "1              0  Bournemouth   \n",
       "2              0     Brighton   \n",
       "3              0      Burnley   \n",
       "4              0      Cardiff   \n",
       "\n",
       "                                  next_event_fixture  played ...   strength  \\\n",
       "0  [{'is_home': True, 'day': 8, 'event_day': 1, '...       0 ...          4   \n",
       "1  [{'is_home': True, 'day': 8, 'event_day': 1, '...       0 ...          3   \n",
       "2  [{'is_home': False, 'day': 8, 'event_day': 1, ...       0 ...          3   \n",
       "3  [{'is_home': True, 'day': 8, 'event_day': 1, '...       0 ...          2   \n",
       "4  [{'is_home': True, 'day': 8, 'event_day': 1, '...       0 ...          2   \n",
       "\n",
       "   strength_attack_away strength_attack_home  strength_defence_away  \\\n",
       "0                  1260                 1240                   1320   \n",
       "1                  1120                 1090                   1200   \n",
       "2                  1080                 1040                   1120   \n",
       "3                  1150                 1040                   1070   \n",
       "4                  1060                 1020                   1030   \n",
       "\n",
       "   strength_defence_home  strength_overall_away  strength_overall_home  \\\n",
       "0                   1270                   1320                   1290   \n",
       "1                   1150                   1180                   1150   \n",
       "2                   1030                   1110                   1040   \n",
       "3                   1040                   1070                   1050   \n",
       "4                   1010                   1050                   1020   \n",
       "\n",
       "   team_division  unavailable  win  \n",
       "0              1        False    0  \n",
       "1              1        False    0  \n",
       "2              1        False    0  \n",
       "3              1        False    0  \n",
       "4              1        False    0  \n",
       "\n",
       "[5 rows x 23 columns]"
      ]
     },
     "execution_count": 246,
     "metadata": {},
     "output_type": "execute_result"
    }
   ],
   "source": [
    "#looking at data\n",
    "pd.DataFrame.from_dict(data[\"teams\"]).head()"
   ]
  },
  {
   "cell_type": "code",
   "execution_count": 247,
   "metadata": {},
   "outputs": [],
   "source": [
    "#getting dataframe with teams\n",
    "df_teams=pd.DataFrame.from_dict(data[\"teams\"])[[\"id\",\"name\"]]"
   ]
  },
  {
   "cell_type": "code",
   "execution_count": 248,
   "metadata": {},
   "outputs": [
    {
     "data": {
      "text/html": [
       "<div>\n",
       "<style>\n",
       "    .dataframe thead tr:only-child th {\n",
       "        text-align: right;\n",
       "    }\n",
       "\n",
       "    .dataframe thead th {\n",
       "        text-align: left;\n",
       "    }\n",
       "\n",
       "    .dataframe tbody tr th {\n",
       "        vertical-align: top;\n",
       "    }\n",
       "</style>\n",
       "<table border=\"1\" class=\"dataframe\">\n",
       "  <thead>\n",
       "    <tr style=\"text-align: right;\">\n",
       "      <th></th>\n",
       "      <th>id</th>\n",
       "      <th>name</th>\n",
       "    </tr>\n",
       "  </thead>\n",
       "  <tbody>\n",
       "    <tr>\n",
       "      <th>0</th>\n",
       "      <td>1</td>\n",
       "      <td>Arsenal</td>\n",
       "    </tr>\n",
       "    <tr>\n",
       "      <th>1</th>\n",
       "      <td>2</td>\n",
       "      <td>Bournemouth</td>\n",
       "    </tr>\n",
       "    <tr>\n",
       "      <th>2</th>\n",
       "      <td>3</td>\n",
       "      <td>Brighton</td>\n",
       "    </tr>\n",
       "    <tr>\n",
       "      <th>3</th>\n",
       "      <td>4</td>\n",
       "      <td>Burnley</td>\n",
       "    </tr>\n",
       "    <tr>\n",
       "      <th>4</th>\n",
       "      <td>5</td>\n",
       "      <td>Cardiff</td>\n",
       "    </tr>\n",
       "  </tbody>\n",
       "</table>\n",
       "</div>"
      ],
      "text/plain": [
       "   id         name\n",
       "0   1      Arsenal\n",
       "1   2  Bournemouth\n",
       "2   3     Brighton\n",
       "3   4      Burnley\n",
       "4   5      Cardiff"
      ]
     },
     "execution_count": 248,
     "metadata": {},
     "output_type": "execute_result"
    }
   ],
   "source": [
    "df_teams.head()"
   ]
  },
  {
   "cell_type": "code",
   "execution_count": 249,
   "metadata": {
    "collapsed": true
   },
   "outputs": [],
   "source": [
    "#getting dataframe with players\n",
    "df_players=pd.DataFrame.from_dict(data[\"elements\"])"
   ]
  },
  {
   "cell_type": "code",
   "execution_count": 250,
   "metadata": {},
   "outputs": [
    {
     "name": "stdout",
     "output_type": "stream",
     "text": [
      "<class 'pandas.core.frame.DataFrame'>\n",
      "RangeIndex: 558 entries, 0 to 557\n",
      "Data columns (total 58 columns):\n",
      "assists                         558 non-null int64\n",
      "bonus                           558 non-null int64\n",
      "bps                             558 non-null int64\n",
      "chance_of_playing_next_round    363 non-null float64\n",
      "chance_of_playing_this_round    359 non-null float64\n",
      "clean_sheets                    558 non-null int64\n",
      "code                            558 non-null int64\n",
      "cost_change_event               558 non-null int64\n",
      "cost_change_event_fall          558 non-null int64\n",
      "cost_change_start               558 non-null int64\n",
      "cost_change_start_fall          558 non-null int64\n",
      "creativity                      558 non-null object\n",
      "dreamteam_count                 558 non-null int64\n",
      "ea_index                        558 non-null int64\n",
      "element_type                    558 non-null int64\n",
      "ep_next                         558 non-null object\n",
      "ep_this                         558 non-null object\n",
      "event_points                    558 non-null int64\n",
      "first_name                      558 non-null object\n",
      "form                            558 non-null object\n",
      "goals_conceded                  558 non-null int64\n",
      "goals_scored                    558 non-null int64\n",
      "ict_index                       558 non-null object\n",
      "id                              558 non-null int64\n",
      "in_dreamteam                    558 non-null bool\n",
      "influence                       558 non-null object\n",
      "loaned_in                       558 non-null int64\n",
      "loaned_out                      558 non-null int64\n",
      "loans_in                        558 non-null int64\n",
      "loans_out                       558 non-null int64\n",
      "minutes                         558 non-null int64\n",
      "news                            558 non-null object\n",
      "news_added                      363 non-null object\n",
      "now_cost                        558 non-null int64\n",
      "own_goals                       558 non-null int64\n",
      "penalties_missed                558 non-null int64\n",
      "penalties_saved                 558 non-null int64\n",
      "photo                           558 non-null object\n",
      "points_per_game                 558 non-null object\n",
      "red_cards                       558 non-null int64\n",
      "saves                           558 non-null int64\n",
      "second_name                     558 non-null object\n",
      "selected_by_percent             558 non-null object\n",
      "special                         558 non-null bool\n",
      "squad_number                    555 non-null float64\n",
      "status                          558 non-null object\n",
      "team                            558 non-null int64\n",
      "team_code                       558 non-null int64\n",
      "threat                          558 non-null object\n",
      "total_points                    558 non-null int64\n",
      "transfers_in                    558 non-null int64\n",
      "transfers_in_event              558 non-null int64\n",
      "transfers_out                   558 non-null int64\n",
      "transfers_out_event             558 non-null int64\n",
      "value_form                      558 non-null object\n",
      "value_season                    558 non-null object\n",
      "web_name                        558 non-null object\n",
      "yellow_cards                    558 non-null int64\n",
      "dtypes: bool(2), float64(3), int64(35), object(18)\n",
      "memory usage: 245.3+ KB\n"
     ]
    }
   ],
   "source": [
    "df_players.info()"
   ]
  },
  {
   "cell_type": "code",
   "execution_count": 251,
   "metadata": {},
   "outputs": [],
   "source": [
    "#reducting dataframe leaving columns needed\n",
    "df=df_players[[\"web_name\",\"total_points\",\"now_cost\",\"team\",\"element_type\"]]"
   ]
  },
  {
   "cell_type": "code",
   "execution_count": 252,
   "metadata": {},
   "outputs": [],
   "source": [
    "#preparing dictionary of teams\n",
    "dict_teams = df_teams.set_index(\"id\")[\"name\"].to_dict()"
   ]
  },
  {
   "cell_type": "code",
   "execution_count": 253,
   "metadata": {},
   "outputs": [
    {
     "data": {
      "text/plain": [
       "{1: 'Arsenal', 2: 'Bournemouth', 3: 'Brighton', 4: 'Burnley', 5: 'Cardiff', 6: 'Chelsea', 7: 'Crystal Palace', 8: 'Everton', 9: 'Fulham', 10: 'Huddersfield', 11: 'Leicester', 12: 'Liverpool', 13: 'Man City', 14: 'Man Utd', 15: 'Newcastle', 16: 'Southampton', 17: 'Spurs', 18: 'Watford', 19: 'West Ham', 20: 'Wolves'}"
      ]
     },
     "execution_count": 253,
     "metadata": {},
     "output_type": "execute_result"
    }
   ],
   "source": [
    "dict_teams"
   ]
  },
  {
   "cell_type": "code",
   "execution_count": 254,
   "metadata": {},
   "outputs": [],
   "source": [
    "#preparing dictionary of teams\n",
    "dict_pos = {1:\"Goalkeeper\",2:\"Defender\",3:\"Midfielder\",4:\"Forward\"}"
   ]
  },
  {
   "cell_type": "code",
   "execution_count": 255,
   "metadata": {},
   "outputs": [
    {
     "name": "stderr",
     "output_type": "stream",
     "text": [
      "/home/denismoroz/anaconda3/lib/python3.6/site-packages/ipykernel_launcher.py:2: SettingWithCopyWarning: \n",
      "A value is trying to be set on a copy of a slice from a DataFrame.\n",
      "Try using .loc[row_indexer,col_indexer] = value instead\n",
      "\n",
      "See the caveats in the documentation: http://pandas.pydata.org/pandas-docs/stable/indexing.html#indexing-view-versus-copy\n",
      "  \n"
     ]
    }
   ],
   "source": [
    "#replacing team numbers with real names of teams (e.g. Arsenal, Man City etc.)\n",
    "df[\"team\"]=df[\"team\"].map(dict_teams)"
   ]
  },
  {
   "cell_type": "code",
   "execution_count": 256,
   "metadata": {},
   "outputs": [
    {
     "name": "stderr",
     "output_type": "stream",
     "text": [
      "/home/denismoroz/anaconda3/lib/python3.6/site-packages/ipykernel_launcher.py:2: SettingWithCopyWarning: \n",
      "A value is trying to be set on a copy of a slice from a DataFrame.\n",
      "Try using .loc[row_indexer,col_indexer] = value instead\n",
      "\n",
      "See the caveats in the documentation: http://pandas.pydata.org/pandas-docs/stable/indexing.html#indexing-view-versus-copy\n",
      "  \n"
     ]
    }
   ],
   "source": [
    "#replacing position numbers with real names of positions (e.g. forward etc.)\n",
    "df[\"element_type\"]=df[\"element_type\"].map(dict_pos)"
   ]
  },
  {
   "cell_type": "code",
   "execution_count": 257,
   "metadata": {},
   "outputs": [],
   "source": [
    "#getting list of teams from our dataframe with players\n",
    "list_teams=list(df[\"team\"].unique())"
   ]
  },
  {
   "cell_type": "code",
   "execution_count": 258,
   "metadata": {
    "collapsed": true
   },
   "outputs": [],
   "source": [
    "#getting list of players' names from our dataframe with players\n",
    "list_players=list(df[\"web_name\"].unique())"
   ]
  },
  {
   "cell_type": "code",
   "execution_count": 259,
   "metadata": {
    "collapsed": true
   },
   "outputs": [],
   "source": [
    "#getting list of positions from our dataframe with players\n",
    "list_pos = list(df[\"element_type\"].unique())"
   ]
  },
  {
   "cell_type": "code",
   "execution_count": 260,
   "metadata": {
    "collapsed": true
   },
   "outputs": [],
   "source": [
    "#one-hot-encoding for team names\n",
    "dfPl = pd.concat([df,pd.get_dummies(df[\"team\"])],axis=1)"
   ]
  },
  {
   "cell_type": "code",
   "execution_count": 261,
   "metadata": {
    "collapsed": true
   },
   "outputs": [],
   "source": [
    "#one-hot-encoding for positions\n",
    "dfPl = pd.concat([dfPl,pd.get_dummies(dfPl[\"element_type\"])],axis=1)"
   ]
  },
  {
   "cell_type": "code",
   "execution_count": 262,
   "metadata": {
    "collapsed": true
   },
   "outputs": [],
   "source": [
    "#ensuring integers for points\n",
    "dfPl[\"total_points\"] = [int(x) for x in dfPl[\"total_points\"]]"
   ]
  },
  {
   "cell_type": "code",
   "execution_count": 282,
   "metadata": {},
   "outputs": [
    {
     "data": {
      "text/html": [
       "<div>\n",
       "<style>\n",
       "    .dataframe thead tr:only-child th {\n",
       "        text-align: right;\n",
       "    }\n",
       "\n",
       "    .dataframe thead th {\n",
       "        text-align: left;\n",
       "    }\n",
       "\n",
       "    .dataframe tbody tr th {\n",
       "        vertical-align: top;\n",
       "    }\n",
       "</style>\n",
       "<table border=\"1\" class=\"dataframe\">\n",
       "  <thead>\n",
       "    <tr style=\"text-align: right;\">\n",
       "      <th></th>\n",
       "      <th>web_name</th>\n",
       "      <th>total_points</th>\n",
       "      <th>now_cost</th>\n",
       "      <th>team</th>\n",
       "      <th>element_type</th>\n",
       "      <th>Arsenal</th>\n",
       "      <th>Bournemouth</th>\n",
       "      <th>Brighton</th>\n",
       "      <th>Burnley</th>\n",
       "      <th>Cardiff</th>\n",
       "      <th>...</th>\n",
       "      <th>Newcastle</th>\n",
       "      <th>Southampton</th>\n",
       "      <th>Spurs</th>\n",
       "      <th>Watford</th>\n",
       "      <th>West Ham</th>\n",
       "      <th>Wolves</th>\n",
       "      <th>Defender</th>\n",
       "      <th>Forward</th>\n",
       "      <th>Goalkeeper</th>\n",
       "      <th>Midfielder</th>\n",
       "    </tr>\n",
       "  </thead>\n",
       "  <tbody>\n",
       "    <tr>\n",
       "      <th>0</th>\n",
       "      <td>Cech</td>\n",
       "      <td>24</td>\n",
       "      <td>49</td>\n",
       "      <td>Arsenal</td>\n",
       "      <td>Goalkeeper</td>\n",
       "      <td>1</td>\n",
       "      <td>0</td>\n",
       "      <td>0</td>\n",
       "      <td>0</td>\n",
       "      <td>0</td>\n",
       "      <td>...</td>\n",
       "      <td>0</td>\n",
       "      <td>0</td>\n",
       "      <td>0</td>\n",
       "      <td>0</td>\n",
       "      <td>0</td>\n",
       "      <td>0</td>\n",
       "      <td>0</td>\n",
       "      <td>0</td>\n",
       "      <td>1</td>\n",
       "      <td>0</td>\n",
       "    </tr>\n",
       "    <tr>\n",
       "      <th>1</th>\n",
       "      <td>Leno</td>\n",
       "      <td>22</td>\n",
       "      <td>48</td>\n",
       "      <td>Arsenal</td>\n",
       "      <td>Goalkeeper</td>\n",
       "      <td>1</td>\n",
       "      <td>0</td>\n",
       "      <td>0</td>\n",
       "      <td>0</td>\n",
       "      <td>0</td>\n",
       "      <td>...</td>\n",
       "      <td>0</td>\n",
       "      <td>0</td>\n",
       "      <td>0</td>\n",
       "      <td>0</td>\n",
       "      <td>0</td>\n",
       "      <td>0</td>\n",
       "      <td>0</td>\n",
       "      <td>0</td>\n",
       "      <td>1</td>\n",
       "      <td>0</td>\n",
       "    </tr>\n",
       "    <tr>\n",
       "      <th>2</th>\n",
       "      <td>Koscielny</td>\n",
       "      <td>0</td>\n",
       "      <td>54</td>\n",
       "      <td>Arsenal</td>\n",
       "      <td>Defender</td>\n",
       "      <td>1</td>\n",
       "      <td>0</td>\n",
       "      <td>0</td>\n",
       "      <td>0</td>\n",
       "      <td>0</td>\n",
       "      <td>...</td>\n",
       "      <td>0</td>\n",
       "      <td>0</td>\n",
       "      <td>0</td>\n",
       "      <td>0</td>\n",
       "      <td>0</td>\n",
       "      <td>0</td>\n",
       "      <td>1</td>\n",
       "      <td>0</td>\n",
       "      <td>0</td>\n",
       "      <td>0</td>\n",
       "    </tr>\n",
       "    <tr>\n",
       "      <th>3</th>\n",
       "      <td>Bellerín</td>\n",
       "      <td>42</td>\n",
       "      <td>54</td>\n",
       "      <td>Arsenal</td>\n",
       "      <td>Defender</td>\n",
       "      <td>1</td>\n",
       "      <td>0</td>\n",
       "      <td>0</td>\n",
       "      <td>0</td>\n",
       "      <td>0</td>\n",
       "      <td>...</td>\n",
       "      <td>0</td>\n",
       "      <td>0</td>\n",
       "      <td>0</td>\n",
       "      <td>0</td>\n",
       "      <td>0</td>\n",
       "      <td>0</td>\n",
       "      <td>1</td>\n",
       "      <td>0</td>\n",
       "      <td>0</td>\n",
       "      <td>0</td>\n",
       "    </tr>\n",
       "    <tr>\n",
       "      <th>4</th>\n",
       "      <td>Monreal</td>\n",
       "      <td>30</td>\n",
       "      <td>54</td>\n",
       "      <td>Arsenal</td>\n",
       "      <td>Defender</td>\n",
       "      <td>1</td>\n",
       "      <td>0</td>\n",
       "      <td>0</td>\n",
       "      <td>0</td>\n",
       "      <td>0</td>\n",
       "      <td>...</td>\n",
       "      <td>0</td>\n",
       "      <td>0</td>\n",
       "      <td>0</td>\n",
       "      <td>0</td>\n",
       "      <td>0</td>\n",
       "      <td>0</td>\n",
       "      <td>1</td>\n",
       "      <td>0</td>\n",
       "      <td>0</td>\n",
       "      <td>0</td>\n",
       "    </tr>\n",
       "  </tbody>\n",
       "</table>\n",
       "<p>5 rows × 29 columns</p>\n",
       "</div>"
      ],
      "text/plain": [
       "    web_name  total_points  now_cost     team element_type  Arsenal  \\\n",
       "0       Cech            24        49  Arsenal   Goalkeeper        1   \n",
       "1       Leno            22        48  Arsenal   Goalkeeper        1   \n",
       "2  Koscielny             0        54  Arsenal     Defender        1   \n",
       "3   Bellerín            42        54  Arsenal     Defender        1   \n",
       "4    Monreal            30        54  Arsenal     Defender        1   \n",
       "\n",
       "   Bournemouth  Brighton  Burnley  Cardiff     ...      Newcastle  \\\n",
       "0            0         0        0        0     ...              0   \n",
       "1            0         0        0        0     ...              0   \n",
       "2            0         0        0        0     ...              0   \n",
       "3            0         0        0        0     ...              0   \n",
       "4            0         0        0        0     ...              0   \n",
       "\n",
       "   Southampton  Spurs  Watford  West Ham  Wolves  Defender  Forward  \\\n",
       "0            0      0        0         0       0         0        0   \n",
       "1            0      0        0         0       0         0        0   \n",
       "2            0      0        0         0       0         1        0   \n",
       "3            0      0        0         0       0         1        0   \n",
       "4            0      0        0         0       0         1        0   \n",
       "\n",
       "   Goalkeeper  Midfielder  \n",
       "0           1           0  \n",
       "1           1           0  \n",
       "2           0           0  \n",
       "3           0           0  \n",
       "4           0           0  \n",
       "\n",
       "[5 rows x 29 columns]"
      ]
     },
     "execution_count": 282,
     "metadata": {},
     "output_type": "execute_result"
    }
   ],
   "source": [
    "#looking at our dataframe\n",
    "dfPl.head()"
   ]
  },
  {
   "cell_type": "code",
   "execution_count": 283,
   "metadata": {
    "collapsed": true
   },
   "outputs": [],
   "source": [
    "start = time.time()\n",
    "\n",
    "# Create the 'prob' variable to contain the problem data\n",
    "prob = LpProblem(\"The FPL players selection\",LpMaximize)\n",
    "\n",
    "#setting variable\n",
    "var_players = pulp.LpVariable.dicts(\"p\",list_players,cat='Binary')\n",
    "\n",
    "#setting objective function\n",
    "prob+=sum([var_players[p]*dfPl[dfPl[\"web_name\"]==p][\"total_points\"].iloc[0] for p in list_players])\n",
    "\n",
    "#setting constraints on number of players from one PL team\n",
    "for t in list_teams:\n",
    "    prob+=sum([var_players[p]*dfPl[dfPl[\"web_name\"]==p][t].iloc[0] for p in list_players])<=3\n",
    "    \n",
    "#setting constraints on number of players for every position\n",
    "prob+=sum([var_players[p]*dfPl[dfPl[\"web_name\"]==p][\"Goalkeeper\"].iloc[0] for p in list_players])<=2\n",
    "prob+=sum([var_players[p]*dfPl[dfPl[\"web_name\"]==p][\"Defender\"].iloc[0] for p in list_players])<=5\n",
    "prob+=sum([var_players[p]*dfPl[dfPl[\"web_name\"]==p][\"Midfielder\"].iloc[0] for p in list_players])<=5\n",
    "prob+=sum([var_players[p]*dfPl[dfPl[\"web_name\"]==p][\"Forward\"].iloc[0] for p in list_players])<=3\n",
    "\n",
    "#setting budget constraint\n",
    "budget = 1000\n",
    "prob+=sum([var_players[p]*dfPl[dfPl[\"web_name\"]==p][\"now_cost\"].iloc[0] for p in list_players])<=budget\n",
    "\n",
    "#setting team count constraint\n",
    "prob+=sum([var_players[p] for p in list_players])==15\n",
    "\n",
    "#solving\n",
    "prob.solve()\n",
    "\n",
    "end = time.time()"
   ]
  },
  {
   "cell_type": "code",
   "execution_count": 284,
   "metadata": {},
   "outputs": [
    {
     "name": "stdout",
     "output_type": "stream",
     "text": [
      "Solver failed!\n"
     ]
    }
   ],
   "source": [
    "#printing results\n",
    "if LpStatus[prob.status]==1:  \n",
    "    print(\"Fantasy team players for budget of \", budget)\n",
    "    print(\"--------------------------------------------\")\n",
    "    t_cost = 0\n",
    "    t_points = 0\n",
    "    columns = [\"player\",\"team\",\"position\",\"cost\",\"points\"]\n",
    "    df_out = pd.DataFrame(columns=columns)\n",
    "    row=0\n",
    "    for p in list_players:\n",
    "        if var_players[p].value()==1:\n",
    "            team = dfPl[dfPl[\"web_name\"]==p][\"team\"].iloc[0]\n",
    "            pos = dfPl[dfPl[\"web_name\"]==p][\"element_type\"].iloc[0]\n",
    "            cost = dfPl[dfPl[\"web_name\"]==p][\"now_cost\"].iloc[0]\n",
    "            points = dfPl[dfPl[\"web_name\"]==p][\"total_points\"].iloc[0]\n",
    "            t_cost+=cost\n",
    "            t_points+=points\n",
    "            df_out.loc[row] = [p,team,pos,cost,points]\n",
    "            row+=1\n",
    "    print(df_out)\n",
    "    print(\"total cost:\",t_cost)\n",
    "    print(\"total points in the table:\",t_points)\n",
    "    if t_points == value(prob.objective):\n",
    "        print(\"equal to objective function value:\",value(prob.objective))\n",
    "    else:\n",
    "        print(\"not equal to objective function value:\",value(prob.objective))\n",
    "    print (\"time elapsed in sec.:\", end - start)\n",
    "else:\n",
    "    print(\"Solver failed!\")    "
   ]
  },
  {
   "cell_type": "code",
   "execution_count": null,
   "metadata": {
    "collapsed": true
   },
   "outputs": [],
   "source": []
  }
 ],
 "metadata": {
  "kernelspec": {
   "display_name": "Python 3",
   "language": "python",
   "name": "python3"
  },
  "language_info": {
   "codemirror_mode": {
    "name": "ipython",
    "version": 3
   },
   "file_extension": ".py",
   "mimetype": "text/x-python",
   "name": "python",
   "nbconvert_exporter": "python",
   "pygments_lexer": "ipython3",
   "version": "3.6.1"
  }
 },
 "nbformat": 4,
 "nbformat_minor": 2
}
